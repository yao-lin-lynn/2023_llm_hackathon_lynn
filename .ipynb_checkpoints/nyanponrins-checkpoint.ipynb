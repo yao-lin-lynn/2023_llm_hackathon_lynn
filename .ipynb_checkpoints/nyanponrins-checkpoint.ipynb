{
 "cells": [
  {
   "cell_type": "code",
   "execution_count": 4,
   "id": "8c77a627-016c-4b6f-bad9-74a9bff292f1",
   "metadata": {},
   "outputs": [],
   "source": [
    "import openai\n",
    "import os\n",
    "\n",
    "openai.api_key = os.getenv(\"OPENAI_API_KEY\")"
   ]
  },
  {
   "cell_type": "code",
   "execution_count": 5,
   "id": "03e0b61f-b08f-428b-8114-0db963aecbcf",
   "metadata": {},
   "outputs": [],
   "source": [
    "role = \"あなたはお笑い芸人です\"\n",
    "# 例：role = \"あなたは名付けのプロです\"\n",
    "\n",
    "prompt = '''\n",
    "パソコンに関連するネタを考えてください\n",
    "'''\n",
    "# 例:prompt = \"採用プロダクトのコードネームを考えてください。日本の伝統工芸品をローマ字にしたものが望ましいです\""
   ]
  },
  {
   "cell_type": "code",
   "execution_count": 6,
   "id": "2a80e801-19e5-45a8-b3dd-d8a5c1e717e4",
   "metadata": {},
   "outputs": [
    {
     "name": "stdout",
     "output_type": "stream",
     "text": [
      "「Windowsが壊れたら、まずはエクセルシートを守れ！」、「ハッキングされたパソコンの画面に出てきたのは、『Welcome to the Matrix』だった…」、「パソコン初心者の私が『C:¥>』を見たら、何かの呪文みたいで怖くなった！」、「おとといパソコンを買ったばかりなのに、昨日アップデートでオタマジャクシが出た！」などがあります。\n"
     ]
    }
   ],
   "source": [
    "# 上のセル実行後、そのまま実行してください\n",
    "res = openai.ChatCompletion.create(\n",
    "    model=\"gpt-3.5-turbo\",\n",
    "    messages=[\n",
    "        {\"role\": \"system\", \"content\": role},\n",
    "        {\"role\": \"user\", \"content\": prompt},\n",
    "        ]\n",
    "  )\n",
    "\n",
    "print(res['choices'][0]['message']['content'])"
   ]
  },
  {
   "cell_type": "code",
   "execution_count": null,
   "id": "e71164e2-6c3f-424d-b970-c6c7b7eaf2b3",
   "metadata": {},
   "outputs": [],
   "source": []
  }
 ],
 "metadata": {
  "kernelspec": {
   "display_name": "Python 3 (ipykernel)",
   "language": "python",
   "name": "python3"
  },
  "language_info": {
   "codemirror_mode": {
    "name": "ipython",
    "version": 3
   },
   "file_extension": ".py",
   "mimetype": "text/x-python",
   "name": "python",
   "nbconvert_exporter": "python",
   "pygments_lexer": "ipython3",
   "version": "3.9.10"
  }
 },
 "nbformat": 4,
 "nbformat_minor": 5
}
